{
  "nbformat": 4,
  "nbformat_minor": 0,
  "metadata": {
    "colab": {
      "name": "Biological Computing with Synthetic Minimal Cells and Quorum Sensing, Sci fair 2021",
      "provenance": [],
      "collapsed_sections": []
    },
    "kernelspec": {
      "name": "python3",
      "display_name": "Python 3"
    }
  },
  "cells": [
    {
      "cell_type": "code",
      "metadata": {
        "colab": {
          "base_uri": "https://localhost:8080/"
        },
        "id": "h2i-1JT84kf2",
        "outputId": "8edd6783-567a-41cc-cf89-cbf3709fa2bd"
      },
      "source": [
        "!pip install ddeint"
      ],
      "execution_count": 3,
      "outputs": [
        {
          "output_type": "stream",
          "text": [
            "Requirement already satisfied: ddeint in /usr/local/lib/python3.7/dist-packages (0.2)\n",
            "Requirement already satisfied: scipy in /usr/local/lib/python3.7/dist-packages (from ddeint) (1.4.1)\n",
            "Requirement already satisfied: numpy in /usr/local/lib/python3.7/dist-packages (from ddeint) (1.19.5)\n"
          ],
          "name": "stdout"
        }
      ]
    },
    {
      "cell_type": "code",
      "metadata": {
        "id": "LbVaq0saa5sA"
      },
      "source": [
        "'''\r\n",
        "My science fair project! Take a look at https://github.com/dhrumilp15/Science-Fair/ for more docs!\r\n",
        "Author: Dhrumil Patel\r\n",
        "'''\r\n",
        "#import libraries\r\n",
        "import numpy as np\r\n",
        "from scipy.integrate import odeint\r\n",
        "import matplotlib.pyplot as plt\r\n",
        "%matplotlib inline\r\n",
        "from itertools import chain\r\n",
        "from ddeint import ddeint"
      ],
      "execution_count": 4,
      "outputs": []
    },
    {
      "cell_type": "code",
      "metadata": {
        "id": "bbC5N5bXbBW7"
      },
      "source": [
        "# ODE\r\n",
        "alpha_A = 1.0564*(10**-7) #  AHL production rate\r\n",
        "alpha = 1.0564 * (10**-7)\r\n",
        "alpha_R = 1.0 * (10**-7)# Production of PpuR\r\n",
        "\r\n",
        "beta_A = 1.0564*(10**-6) # Feedback-regulated AHL production rate\r\n",
        "beta = 1.0564*(10**-6)\r\n",
        "\r\n",
        "x_0 = 5.4044 * (10**-7) # Initial value of AHL Concentration\r\n",
        "R_0 = 1.0 # Initial value of PpuR Concentration\r\n",
        "y_0 = 5.2 * (10**3) #Initial amount of Lactonase\r\n",
        "n_0 = 1.0 # Size of biomass\r\n",
        "s_0 = 1.0 # Amount of substrate\r\n",
        "\r\n",
        "n = 2.3 # Hill coefficient for x\r\n",
        "n_s = 2.5 # Hill Coefficient for substrate consumption process\r\n",
        "\r\n",
        "m = 2.5 # Hill coefficient\r\n",
        "\r\n",
        "gamma_A = 1.0 #Threshold of alpha_A\r\n",
        "gamma_R = 1.0 #Threshold of alpha_R\r\n",
        "gamma_S = 1.0 # Decay rate of substrate - Rate of substrate consumption\r\n",
        "gamma = 0.105 #AHL Decay rate\r\n",
        "\r\n",
        "pi_1_plus = 1e-7 # Rate at which AHL binds to PpuR\r\n",
        "pi_minus = 10.0 # Rate at which AHL and PpuR split up(disassociate)\r\n",
        "\r\n",
        "C_0 = 1.0 # Initial concentration of PpuR-AHL complex\r\n",
        "C_th = 3.597 * (10**-13) # Threshold of positive feedback for AHL concentration, x_th\r\n",
        "C_th2 = 1.0 #Threshold for lactonase activation\r\n",
        "\r\n",
        "D = 2.5 # Dilution Rate\r\n",
        "\r\n",
        "S = 1.0 # Concentration of Substrate\r\n",
        "\r\n",
        "K_m = 1.0 # Carrying capacity, consumption rate is reached\r\n",
        "\r\n",
        "tau = 2 # Delay in production of lactonase\r\n",
        "delta = 1.5*(10**-4) # Lactonase-dependent AHL degradation rate\r\n",
        "omega = 0.105 # Lactonase decay rate(w/ washout)\r\n",
        "rho = 5.0521 * (10**3) # Lactonase Production Rate\r\n",
        "\r\n",
        "N = 4.5929 * (10**11) #Cell density at equilibrium\r\n",
        "\r\n",
        "x_th = 3.597 * (10**-12) #Critical threshold for positive-feedback in x\r\n",
        "y_th = 3.597 * (10**-12) #Critical threshold for positive-feedback in y\r\n",
        "\r\n",
        "#spanish_gamma = (pi_1_plus*alpha_R)/(pi_minus*gamma_R)\r\n",
        "\r\n",
        "p = [alpha_A, beta_A, n, gamma_A, gamma_R, pi_1_plus, pi_minus, C_th, alpha_R]\r\n",
        "\r\n",
        "# ODE solver parameters\r\n",
        "abserr = 1.0e-8\r\n",
        "relerr = 1.0e-6\r\n",
        "stoptime = 10.0\r\n",
        "numpoints = 2000\r\n",
        "\r\n",
        "t = [stoptime * float(i) / (numpoints - 1) for i in range(numpoints)] # How long the graph will be\r\n",
        "\r\n",
        "def single_cell_model(w0,t,p, q): # Initial Values of Functions user gives\r\n",
        "  x_0, R_0, C_0 = w0 # We redefine the \"initial values\" of the function on each iteration in odeint\r\n",
        "  \r\n",
        "  alpha_A, beta_A, n, gamma_A, gamma_R, pi_1_plus, pi_minus, C_th, alpha_R = p # Parameters\r\n",
        "  q = q # So that q can be introduced in AHL Concentration function\r\n",
        "  f = [alpha_A + beta_A*((C_0**n)/(C_th**n + C_0**n))-gamma_A*x_0 - pi_1_plus*x_0*R_0 + pi_minus*C_0 - q*x_0,\r\n",
        "       alpha_R - pi_1_plus* x_0* R_0 + pi_minus*C_0 - gamma_R*R_0,\r\n",
        "       pi_1_plus*x_0*R_0 - pi_minus*C_0] # 1st Line - AHL Concentration, 2nd Line - PpuR Concentration, 3rd Line - PpuR-AHL Complex Concentration\r\n",
        "  return f # Put functions in f to be integrated in solver()\r\n",
        "\r\n",
        "  \"\"\"\r\n",
        "  1st line - Substrate concentration: D*s_0 - gamma_S * n_0 ((s_0**n_s)/((K_m ** n_s) + s_0 ** n_s)) - D*S\r\n",
        "  \r\n",
        "  2nd line - Biomass size: alpha_A * n_0 * ( (s_0 ** n_s) / ((K_m ** n_s) + s_0 ** n_s)) - D*n_0\r\n",
        "  \r\n",
        "  3rd  line - AHL Concentration: (alpha_A + beta_A*((C_0**n)/((C_th**n) + (C_0**n))))*n_0 - gamma_A*x_0 - pi_1_plus*R_0*x_0 + pi_1_minus*C_0 - D*x_0 - delta*x_0*y_0\r\n",
        "  \r\n",
        "  4th line - PpuR-AHL Concentration: pi_1_plus*R_0*x_0 - pi_1_minus*C_0\r\n",
        "  \r\n",
        "  5th line - PpuR Concentration: alpha_R + pi_1_minus*C_0 - pi_1_plus*R_0*x_0 - gamma_R*R_0\r\n",
        "  \r\n",
        "  Initial values of functions(will go to w1): s_0, n_0, C_0, R_0, x_0, y_0\r\n",
        "  \r\n",
        "  Variables(will go to p1): D, gamma_S, S, n_s, K_m, alpha_A, N, beta_A, n, C_th, gamma_A, pi_1_plus, pi_1_minus, delta, alpha_R, gamma_R\r\n",
        "    \r\n",
        "  Lactonase concentration: alpha_L*(C(t - tau)**m)/(C_th2**m + C(t - tau)**m)*n_0 - gamma_L * y_0 - D * y_0\r\n",
        "  \"\"\"\r\n",
        "\r\n",
        "# def single_cell_full_model(w1, t, p1, q):\r\n",
        "#   w1 = C_0, R_0, x_0, y_0, n_0, s_0\r\n",
        "#   print(p1)\r\n",
        "  \r\n",
        "#   D, gamma_S, S, n_s, m, K_m, alpha_A, beta_A, n, C_th, C_th2, gamma_A, pi_1_plus, pi_minus, delta, alpha_R, gamma_R = p1\r\n",
        "  \r\n",
        "#   fm = [D * S - gamma_S * n_0*((s_0 ** n_s)/((K_m ** n_s) + (s_0 ** n_s))) - D * s_0,\r\n",
        "#         alpha_A * n_0 * ( (s_0 ** n_s) / ((K_m ** n_s) + (s_0 ** n_s))) - D * n_0,\r\n",
        "#         (alpha_A + beta_A * ((C_0 ** n)/((C_th ** n) + (C_0 ** n)))) * n_0 - gamma_A * x_0 - pi_1_plus * R_0 * x_0 + pi_minus * C_0 - D * x_0 - delta * x_0 * y_0,\r\n",
        "#         pi_1_plus * R_0 * x_0 - pi_minus * C_0,\r\n",
        "#         alpha_R + pi_minus * C_0 - pi_1_plus * R_0 * x_0 - gamma_R * R_0,\r\n",
        "#        alpha_L*(C_0**m)/(C_th2**m + C_0**m)*n_0 - gamma_L * y_0 - D * y_0]\r\n",
        "#   return fm\r\n",
        "\r\n",
        "class Bacterium:\r\n",
        "  def __init__(self,x_0, R_0, C_0):\r\n",
        "    self.C_0 = C_0 # PpuR-AHL\r\n",
        "    self.x_0 = x_0 # AHL concentration\r\n",
        "    self.R_0 = R_0 # PpuR Concentration\r\n",
        "    #self.y_0 = y_0 # Lactonase concentration\r\n",
        "    #self.n_0 = n_0 # Size of biomass\r\n",
        "    #self.s_0 = s_0 # Substrate\r\n",
        "    self.w0 = [self.x_0, self.R_0, self.C_0]\r\n",
        "    #self.w1 = [self.x_0, self.R_0, self.C_0, self.n_0, self.s_0, self.y_0]\r\n",
        "  \r\n",
        "  def solver(self):\r\n",
        "    wsol = []\r\n",
        "    for q in np.linspace(0.0, 3.0, num=100):\r\n",
        "      wsol.append(odeint(single_cell_model, self.w0, t, args=(p, q), atol = abserr, rtol = relerr))\r\n",
        "      # Atol and rtol are tolerants\r\n",
        "    return wsol\r\n",
        "  \r\n",
        "  #def solver1(self):\r\n",
        "    #wsol1 = odeint(full_model, self.w1, t, args=(p1,), atol = abserr, rtol = relerr)\r\n",
        "    #return wsol1\r\n",
        "    \r\n",
        "  def nan_helper(self, A): # Takes care of NaNs\r\n",
        "      ok = ~np.isnan(A) #Are there NaNs\r\n",
        "      xp = ok.ravel().nonzero()[0] # x-coord of data values ravel for scaling up larger w/ multi-dim data\r\n",
        "      fp = A[~np.isnan(A)]# y-coord of data values\r\n",
        "      x  = np.isnan(A).ravel().nonzero()[0] # x-coord of interp values\r\n",
        "      A[np.isnan(A)] = np.interp(x, xp, fp)\r\n",
        "      return A\r\n",
        "  \r\n",
        "  def ranger(self,x, axis=1):\r\n",
        "    return np.max(x, axis=axis) - np.min(x, axis=axis)\r\n",
        "  \r\n",
        "  def plot(self): #Function to plot graph\r\n",
        "    \r\n",
        "    # Two subplots, the axes array is 1-d\r\n",
        "    N = 2 # Used only in this method\r\n",
        "    #f, axarr = plt.subplots(N, sharex=False)\r\n",
        "    x_new = []\r\n",
        "    for i in range(0,100):\r\n",
        "      x_new.append(self.solver()[i][:,0])\r\n",
        "    \r\n",
        "    ### Finding Double Difference between original AHl concentration and ones with AHL degrading enzyme\r\n",
        "    x_diff = []\r\n",
        "    x_new[0] = self.nan_helper(np.asarray(x_new[0]))\r\n",
        "    for i in range(1,100):\r\n",
        "      x_new[i] = self.nan_helper(np.asarray(x_new[i]))\r\n",
        "      x_diff.append(np.gradient(x_new[0] - x_new[i])) \r\n",
        "    x_range = []\r\n",
        "    \r\n",
        "    #find ranges of values - ideally, we want something with a small range\r\n",
        "    for i in range(len(x_diff)):\r\n",
        "      x_range.append(np.ptp(x_diff[i]))\r\n",
        "    \r\n",
        "    print (np.where(np.square(x_diff[1]) < 0.0025))\r\n",
        "    \r\n",
        "    #for i in range(N):\r\n",
        "      #axarr[i].plot(t, x_new[50*i], 'b')\r\n",
        "      #axarr[i].set_title('AHL Concentration')\r\n",
        "      #axarr[i].tick_params(\r\n",
        "      #axis='x',          # changes apply to the x-axis\r\n",
        "      #which='both',      # both major and minor ticks are affected\r\n",
        "      #bottom='off',      # ticks along the bottom edge are off\r\n",
        "      #labelbottom='off')\r\n",
        "    \r\n",
        "    # What the graph is going to look like\r\n",
        "    original = plt.plot(t,x_new[0],'g', label = 'Original') # Graph with q set to 0\r\n",
        "    q06 = plt.plot(t,x_new[20],'c', label = 'Degradation Rate = 0.61') # Graph with q set to 0.61\r\n",
        "    q15 = plt.plot(t,x_new[50],'b', label = 'Degradation Rate = 1.5') # Graph with q set to 1.5 - EXTRANEOUS; AHL hits 0 :(\r\n",
        "    q1 = plt.plot(t,x_new[99],'r', label = 'Degradation Rate = 3.0')# Graph with q set to 3  - EXTRANEOUS; AHL hits 0 :( \r\n",
        "    plt.legend(loc = 'upper right') # Put graph in upper right corner\r\n",
        "    plt.xlabel('Time (h)') # Label of x axis\r\n",
        "    plt.ylabel('AHL Concentration (M)') # Label of y axis\r\n",
        "    plt.title('Performance of Tunable Biological Resistor') # Title\r\n",
        "    plt.show() # Show graph"
      ],
      "execution_count": 5,
      "outputs": []
    },
    {
      "cell_type": "code",
      "metadata": {
        "colab": {
          "base_uri": "https://localhost:8080/",
          "height": 329
        },
        "id": "F1lxodsNfOZS",
        "outputId": "a6a8537d-5b32-4bdc-d389-9241e4f75faf"
      },
      "source": [
        "bob = Bacterium(x_0, R_0, C_0) # Initial Values assigned at beg. of code\r\n",
        "bob.plot() # Time to plot"
      ],
      "execution_count": 6,
      "outputs": [
        {
          "output_type": "stream",
          "text": [
            "/usr/local/lib/python3.7/dist-packages/ipykernel_launcher.py:65: RuntimeWarning: invalid value encountered in double_scalars\n"
          ],
          "name": "stderr"
        },
        {
          "output_type": "stream",
          "text": [
            "(array([   0,    1,    2, ..., 1997, 1998, 1999]),)\n"
          ],
          "name": "stdout"
        },
        {
          "output_type": "display_data",
          "data": {
            "image/png": "[encoded data removed]",
            "text/plain": [
              "<Figure size 432x288 with 1 Axes>"
            ]
          },
          "metadata": {
            "tags": [],
            "needs_background": "light"
          }
        }
      ]
    },
    {
      "cell_type": "code",
      "metadata": {
        "colab": {
          "base_uri": "https://localhost:8080/",
          "height": 307
        },
        "id": "lqid8Cq04fgj",
        "outputId": "066f59c4-2a83-4d04-d125-b77b858ce40a"
      },
      "source": [
        "# DDE\r\n",
        "from ddeint import ddeint\r\n",
        "# Steady-State Params:\r\n",
        "\r\n",
        "abserr = 1.0e-8\r\n",
        "relerr = 1.0e-6\r\n",
        "stoptime = 10.0\r\n",
        "numpoints = 2000\r\n",
        "\r\n",
        "t = [stoptime * float(i) / (numpoints - 1) for i in range(2, numpoints)] # How long the graph will be\r\n",
        "\r\n",
        "N = 4.5929*(10**11)\r\n",
        "alpha = 1.0564 * (10**-7)\r\n",
        "gamma = 0.105\r\n",
        "delta = 1.5000 * (10**-4)\r\n",
        "beta = 1.0564*(10**-6)\r\n",
        "n = 2.3\r\n",
        "x_th = 3.597 * (10**-13)\r\n",
        "omega = 0.105\r\n",
        "rho = 5.0521 * (10**3)\r\n",
        "d = 2\r\n",
        "m = 2.5\r\n",
        "y_th = 3.597 * (10**-13)\r\n",
        "x_0 = 5.4044 * (10**-7)\r\n",
        "y_0 = 5.2 * (10**3)\r\n",
        "d = 2 # set parameter d(tau)\r\n",
        "\r\n",
        "def model(XY,t,d,q):\r\n",
        "    x, y = XY(t)\r\n",
        "    xd, yd = XY(t-d)\r\n",
        "    return [alpha - gamma*x - delta*x*y + beta*((x**n)/(x_th**n + x**n)) - q*x,\r\n",
        "            rho*((xd**m)/((y_th**m) + xd**m)) - omega*y]\r\n",
        "\r\n",
        "g = lambda t : np.array([x_0,y_0]) # 'history' at t<0\r\n",
        "\r\n",
        "spacing = 30\r\n",
        "\r\n",
        "def solve():\r\n",
        "  qq = []\r\n",
        "  for q in np.linspace(0,3.0,spacing):\r\n",
        "    qq.append(ddeint(model,g,t,fargs=(d,q)))\r\n",
        "  return qq\r\n",
        "\r\n",
        "def nan_helper(A): # Takes care of NaNs\r\n",
        "    ok = ~np.isnan(A) #Are there NaNs\r\n",
        "    xp = ok.ravel().nonzero()[0] # x-coord of data values ravel for scaling up larger w/ multi-dim data\r\n",
        "    fp = A[~np.isnan(A)]# y-coord of data values\r\n",
        "    x  = np.isnan(A).ravel().nonzero()[0] # x-coord of interp values\r\n",
        "    A[np.isnan(A)] = np.interp(x, xp, fp)\r\n",
        "    return A\r\n",
        "\r\n",
        "\r\n",
        "x_new = []\r\n",
        "for i in range(0,spacing):\r\n",
        "    x_new.append(solve()[i][:,0])\r\n",
        "\r\n",
        "### Finding Double Difference between original AHl concentration and ones with AHL degrading enzyme\r\n",
        "x_diff = []\r\n",
        "x_new[0] = nan_helper(np.asarray(x_new[0]))\r\n",
        "for i in range(1,spacing):\r\n",
        "  x_new[i] = nan_helper(np.asarray(x_new[i]))\r\n",
        "  x_diff.append(np.gradient(x_new[0] - x_new[i])) \r\n",
        "x_range = []\r\n",
        "\r\n",
        "#find ranges of values - ideally, we want something with a small range\r\n",
        "for i in range(len(x_diff)):\r\n",
        "  x_range.append(np.ptp(x_diff[i]))\r\n",
        "\r\n",
        "print (np.where(np.square(x_diff[1]) < 0.0025))\r\n",
        "\r\n",
        "def plot():\r\n",
        "    # f, axarr = plt.subplots(2, sharex=False)\r\n",
        "    original = plt.plot(t,x_new[0],'g', label = 'Original') # Graph with q set to 0\r\n",
        "    q06 = plt.plot(t,x_new[30 // spacing],'c', label = 'Degradation Rate = 0.61') # Graph with q set to 0.61\r\n",
        "    q15 = plt.plot(t,x_new[50 // spacing],'b', label = 'Degradation Rate = 1.5') # Graph with q set to 1.5 - EXTRANEOUS; AHL hits 0 :(\r\n",
        "    q1 = plt.plot(t,x_new[99 // spacing],'r', label = 'Degradation Rate = 3')# Graph with q set to 3  - EXTRANEOUS; AHL hits 0 :( \r\n",
        "    # axarr[0].set_title('AHL Concentration')\r\n",
        "    \r\n",
        "    plt.tick_params(\r\n",
        "    axis='x',          # changes apply to the x-axis\r\n",
        "    which='both',      # both major and minor ticks are affected\r\n",
        "    bottom='off',      # ticks along the bottom edge are off\r\n",
        "    labelbottom='off')\r\n",
        "    plt.legend(loc = 'upper right') # Put graph in upper right corner\r\n",
        "    #[original, q06, q15, q1], ['Degradation Rate = 0', 'Degradation Rate = 0.61', 'Degradation Rate = 1.5', 'Degradation Rate = 3'])\r\n",
        "    plt.xlabel('Time (h)') # Label of x axis\r\n",
        "    plt.ylabel('AHL Concentration (M)') # Label of y axis\r\n",
        "    # plt.title('Performance of Tunable Biological Resistor') # Title\r\n",
        "    plt.show() # Show graph\r\n",
        "\r\n",
        "    # axarr[1].plot(t, yy[:,1], 'g')\r\n",
        "    # axarr[1].set_title('Lactonase Concentration')\r\n",
        "\r\n",
        "plot()"
      ],
      "execution_count": 7,
      "outputs": [
        {
          "output_type": "stream",
          "text": [
            "(array([   0,    1,    2, ..., 1995, 1996, 1997]),)\n"
          ],
          "name": "stdout"
        },
        {
          "output_type": "display_data",
          "data": {
            "image/png": "[encoded data removed]",
            "text/plain": [
              "<Figure size 432x288 with 1 Axes>"
            ]
          },
          "metadata": {
            "tags": [],
            "needs_background": "light"
          }
        }
      ]
    },
    {
      "cell_type": "markdown",
      "metadata": {
        "id": "1y72w3748Jut"
      },
      "source": [
        "We can see that the equilibrium values of the AHL concentration (The peak of each curve) vary proportionally to the degradation rate! The synell can emulate an op-amp!"
      ]
    }
  ]
}